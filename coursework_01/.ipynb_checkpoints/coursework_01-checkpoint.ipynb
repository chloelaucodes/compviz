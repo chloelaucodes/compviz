{
 "cells": [
  {
   "cell_type": "markdown",
   "metadata": {},
   "source": [
    "# Coursework 1: Image filtering\n",
    "\n",
    "In this coursework you will practice image filtering techniques, which are commonly used to smooth, sharpen or add certain effects to images. \n",
    "The coursework includes both coding questions and written questions. Please read both the text and code comment in this notebook to get an idea what you are expected to implement.\n",
    "\n",
    "## What to do?\n",
    "\n",
    "* Complete and run the code using `jupyter-lab` or `jupyter-notebook` to get the results.\n",
    "\n",
    "* Export (File | Export Notebook As...) or print (using the print function of your browser) the notebook as a pdf file, which contains your code, results and text answers, and upload the pdf file onto [Cate](https://cate.doc.ic.ac.uk).\n",
    "\n",
    "* If Jupyter-lab does not work for you, you can also use Google Colab to write the code and export the pdf file.\n",
    "\n",
    "## Dependencies:\n",
    "\n",
    "If you do not have Jupyter-Lab on your laptop, you can find information for installing Jupyter-Lab [here](https://jupyterlab.readthedocs.io/en/stable/getting_started/installation.html).\n",
    "\n",
    "There may be certain Python packages you may want to use for completing the coursework. We have provided examples below for importing libraries. If some packages are missing, you need to install them. In general, new packages (e.g. imageio etc) can be installed by running \n",
    "\n",
    "`pip3 install [package_name]`\n",
    "\n",
    "in the terminal. If you use Anaconda, you can also install new packages by running `conda install [package_name]` or using its graphic user interface."
   ]
  },
  {
   "cell_type": "code",
   "execution_count": null,
   "metadata": {},
   "outputs": [],
   "source": [
    "# Import libaries (provided)\n",
    "import imageio\n",
    "import numpy as np\n",
    "import matplotlib.pyplot as plt\n",
    "import noise\n",
    "import scipy\n",
    "import scipy.signal\n",
    "import math\n",
    "import time"
   ]
  },
  {
   "cell_type": "markdown",
   "metadata": {},
   "source": [
    "## 1. Moving average filter.\n",
    "\n",
    "Read a specific input image and add noise to the image. Design a moving average filter of kernel size 3x3 and 11x11 respectively. Perform image filtering on the noisy image.\n",
    "\n",
    "Design the kernel of the filter by yourself. Then perform 2D image filtering using the function `scipy.signal.convolve2d()`."
   ]
  },
  {
   "cell_type": "code",
   "execution_count": null,
   "metadata": {},
   "outputs": [],
   "source": [
    "# Read the image (provided)\n",
    "image = imageio.imread('hyde_park.jpg')\n",
    "plt.imshow(image, cmap='gray')\n",
    "plt.gcf().set_size_inches(10, 8)"
   ]
  },
  {
   "cell_type": "code",
   "execution_count": null,
   "metadata": {},
   "outputs": [],
   "source": [
    "# Corrupt the image with Gaussian noise (provided)\n",
    "image_noisy = noise.add_noise(image, 'gaussian')\n",
    "plt.imshow(image_noisy, cmap='gray')\n",
    "plt.gcf().set_size_inches(10, 8)"
   ]
  },
  {
   "cell_type": "markdown",
   "metadata": {},
   "source": [
    "### Note: from now on, please use the noisy image as the input for the filters.\n",
    "\n",
    "### 1.1 Filter the noisy image with a 3x3 moving average filter. Show the filtering results. (5 points)"
   ]
  },
  {
   "cell_type": "code",
   "execution_count": null,
   "metadata": {},
   "outputs": [],
   "source": [
    "# Design the filter h\n",
    "h = ...\n",
    "\n",
    "# Convolve the corrupted image with h using scipy.signal.convolve2d function\n",
    "image_filtered = ...\n",
    "\n",
    "# Print the filter (provided)\n",
    "print('Filter h:')\n",
    "print(h)\n",
    "\n",
    "# Display the filtering result (provided)\n",
    "plt.imshow(image_filtered, cmap='gray')\n",
    "plt.gcf().set_size_inches(10, 8)"
   ]
  },
  {
   "cell_type": "markdown",
   "metadata": {},
   "source": [
    "### 1.2 Filter the noisy image with a 11x11 moving average filter. (5 points)"
   ]
  },
  {
   "cell_type": "code",
   "execution_count": null,
   "metadata": {},
   "outputs": [],
   "source": [
    "# Design the filter h\n",
    "h = ...\n",
    "\n",
    "# Convolve the corrupted image with h using scipy.signal.convolve2d function\n",
    "image_filtered = ...\n",
    "\n",
    "# Print the filter (provided)\n",
    "print('Filter h:')\n",
    "print(h)\n",
    "\n",
    "# Display the filtering result (provided)\n",
    "plt.imshow(image_filtered, cmap='gray')\n",
    "plt.gcf().set_size_inches(10, 8)"
   ]
  },
  {
   "cell_type": "markdown",
   "metadata": {},
   "source": [
    "### 1.3 Comment on the filtering results. How do different kernel sizes influence the filtering results? (10 points)"
   ]
  },
  {
   "cell_type": "markdown",
   "metadata": {},
   "source": [
    "WRITE HERE"
   ]
  },
  {
   "cell_type": "markdown",
   "metadata": {},
   "source": [
    "## 2. Edge detection.\n",
    "\n",
    "Perform edge detection using Prewitt filtering, as well as Gaussian + Prewitt filtering."
   ]
  },
  {
   "cell_type": "markdown",
   "metadata": {},
   "source": [
    "### 2.1 Implement 3x3 Prewitt filters and convolve with the noisy image. (10 points)"
   ]
  },
  {
   "cell_type": "code",
   "execution_count": null,
   "metadata": {},
   "outputs": [],
   "source": [
    "# Design the Prewitt filters\n",
    "prewitt_x = ...\n",
    "prewitt_y = ...\n",
    "\n",
    "# Prewitt filtering\n",
    "\n",
    "\n",
    "# Calculate the gradient magnitude\n",
    "\n",
    "\n",
    "# Print the filters (provided)\n",
    "print('prewitt_x:')\n",
    "print(prewitt_x)\n",
    "print('prewitt_y:')\n",
    "print(prewitt_y)\n",
    "\n",
    "# Display the gradient magnitude image (provided)\n",
    "plt.imshow(grad_mag, cmap='gray')\n",
    "plt.gcf().set_size_inches(10, 8)"
   ]
  },
  {
   "cell_type": "markdown",
   "metadata": {},
   "source": [
    "### 2.2 Implement a function that generates a 2D Gaussian filter given the parameter $\\sigma$. (10 points)"
   ]
  },
  {
   "cell_type": "code",
   "execution_count": null,
   "metadata": {},
   "outputs": [],
   "source": [
    "# Design the Gaussian filter\n",
    "def gaussian_filter_2d(sigma):\n",
    "    # sigma: the parameter sigma in the Gaussian kernel (unit: pixel)\n",
    "    #\n",
    "    # return: a 2D array for the Gaussian kernel\n",
    "    \n",
    "    h = ...\n",
    "    return h\n",
    "\n",
    "# Visualise the Gaussian filter when sigma = 3 pixel (provided)\n",
    "sigma = 3\n",
    "h = gaussian_filter_2d(sigma)\n",
    "plt.imshow(h)"
   ]
  },
  {
   "cell_type": "markdown",
   "metadata": {},
   "source": [
    "### 2.3 Perform Gaussian smoothing ($\\sigma$ = 3 pixels), followed by Prewitt filtering, show the gradient magnitude image. (5 points)"
   ]
  },
  {
   "cell_type": "code",
   "execution_count": null,
   "metadata": {},
   "outputs": [],
   "source": [
    "# Perform Gaussian smoothing before Prewitt filtering\n",
    "\n",
    "\n",
    "# Prewitt filtering\n",
    "\n",
    "\n",
    "# Calculate the gradient magnitude\n",
    "\n",
    "\n",
    "# Display the gradient magnitude image (provided)\n",
    "plt.imshow(grad_mag, cmap='gray', vmin=0, vmax=100)\n",
    "plt.gcf().set_size_inches(10, 8)"
   ]
  },
  {
   "cell_type": "markdown",
   "metadata": {},
   "source": [
    "### 2.4 Perform Gaussian smoothing ($\\sigma$ = 7 pixels) and evaluate the computational time for Gaussian smoothing. After that, perform Prewitt filtering. (7 points)"
   ]
  },
  {
   "cell_type": "code",
   "execution_count": null,
   "metadata": {},
   "outputs": [],
   "source": [
    "# Construct the Gaussian filter\n",
    "\n",
    "\n",
    "# Perform Gaussian smoothing and count time\n",
    "\n",
    "\n",
    "# Prewitt filtering\n",
    "\n",
    "\n",
    "# Calculate the gradient magnitude\n",
    "\n",
    "\n",
    "# Display the gradient magnitude image (provided)\n",
    "plt.imshow(grad_mag, cmap='gray', vmin=0, vmax=100)\n",
    "plt.gcf().set_size_inches(10, 8)"
   ]
  },
  {
   "cell_type": "markdown",
   "metadata": {},
   "source": [
    "### 2.5 Implement a function that generates a 1D Gaussian filter given the parameter $\\sigma$. Generate 1D Gaussian filters along x-axis and y-axis respectively. (10 points)"
   ]
  },
  {
   "cell_type": "code",
   "execution_count": null,
   "metadata": {},
   "outputs": [],
   "source": [
    "# Design the Gaussian filter\n",
    "def gaussian_filter_1d(sigma):\n",
    "    # sigma: the parameter sigma in the Gaussian kernel (unit: pixel)\n",
    "    #\n",
    "    # return: a 1D array for the Gaussian kernel\n",
    "    \n",
    "    h = ...\n",
    "    return h\n",
    "\n",
    "# sigma = 7 pixel (provided)\n",
    "sigma = 7\n",
    "\n",
    "# The Gaussian filter along x-axis. Its shape is (1, sz).\n",
    "h_x = ...\n",
    "\n",
    "# The Gaussian filter along y-axis. Its shape is (sz, 1).\n",
    "h_y = ...\n",
    "\n",
    "# Visualise the filters (provided)\n",
    "plt.subplot(1, 2, 1)\n",
    "plt.imshow(h_x)\n",
    "plt.subplot(1, 2, 2)\n",
    "plt.imshow(h_y)"
   ]
  },
  {
   "cell_type": "markdown",
   "metadata": {},
   "source": [
    "### 2.6 Perform Gaussian smoothing ($\\sigma$ = 7 pixels) using two separable filters and evaluate the computational time for separable Gaussian filtering. After that, perform Prewitt filtering, show results and check whether the results are the same as the previous one without separable filtering. (9 points)"
   ]
  },
  {
   "cell_type": "code",
   "execution_count": null,
   "metadata": {},
   "outputs": [],
   "source": [
    "# Perform separable Gaussian smoothing and count time\n",
    "\n",
    "\n",
    "# Prewitt filtering\n",
    "\n",
    "\n",
    "# Calculate the gradient magnitude\n",
    "grad_mag2 = ...\n",
    "\n",
    "# Display the gradient magnitude image (provided)\n",
    "plt.imshow(grad_mag2, cmap='gray', vmin=0, vmax=100)\n",
    "plt.gcf().set_size_inches(10, 8)\n",
    "\n",
    "# Check the difference between the current gradient magnitude map\n",
    "# and the previous one produced without separable filtering. You\n",
    "# can report the mean difference between the two.\n"
   ]
  },
  {
   "cell_type": "markdown",
   "metadata": {},
   "source": [
    "### 2.7 Comment on the Gaussian + Prewitt filtering results and the computational time. (9 points)"
   ]
  },
  {
   "cell_type": "markdown",
   "metadata": {},
   "source": [
    "WRITE HERE"
   ]
  },
  {
   "cell_type": "markdown",
   "metadata": {},
   "source": [
    "## 3. Challenge: Implement a 2D Gaussian filter using Pytorch.\n",
    "\n",
    "[Pytorch](https://pytorch.org/) is a machine learning framework that supports filtering and convolution.\n",
    "\n",
    "The [Conv2D](https://pytorch.org/docs/stable/nn.html#conv2d) operator takes an input array of dimension NxC1xXxY, applies the filter and outputs an array of dimension NxC2xXxY. Here, since we only have one image with one colour channel, we will set N=1, C1=1 and C2=1. You can read the documentation of Conv2D for more detail."
   ]
  },
  {
   "cell_type": "code",
   "execution_count": null,
   "metadata": {},
   "outputs": [],
   "source": [
    "# Import libaries (provided)\n",
    "import torch"
   ]
  },
  {
   "cell_type": "markdown",
   "metadata": {},
   "source": [
    "### 3.1 Expand the dimension of the noisy image into 1x1xXxY and convert it to a Pytorch tensor. (7 points)"
   ]
  },
  {
   "cell_type": "code",
   "execution_count": null,
   "metadata": {},
   "outputs": [],
   "source": [
    "# Expand the dimension of the numpy array\n",
    "\n",
    "\n",
    "# Convert to a Pytorch tensor using torch.from_numpy\n"
   ]
  },
  {
   "cell_type": "markdown",
   "metadata": {},
   "source": [
    "### 3.2 Create a Pytorch Conv2D filter, set its kernel to be a 2D Gaussian filter. (7 points)"
   ]
  },
  {
   "cell_type": "code",
   "execution_count": null,
   "metadata": {},
   "outputs": [],
   "source": [
    "# A 2D Gaussian filter when sigma = 3 pixel (provided)\n",
    "sigma = 3\n",
    "h = gaussian_filter_2d(sigma)\n",
    "print(h.shape)\n",
    "\n",
    "# Create the Conv2D filter (provided)\n",
    "conv = ...\n",
    "\n",
    "# Set the kernel weight\n"
   ]
  },
  {
   "cell_type": "markdown",
   "metadata": {},
   "source": [
    "### 3.3 Apply the filter to the noisy image tensor and display the output image. (6 points)"
   ]
  },
  {
   "cell_type": "code",
   "execution_count": null,
   "metadata": {},
   "outputs": [],
   "source": [
    "# Filtering\n",
    "\n",
    "\n",
    "# Display the filtering result (provided)\n",
    "plt.imshow(image_filtered, cmap='gray')\n",
    "plt.gcf().set_size_inches(10, 8)"
   ]
  },
  {
   "cell_type": "markdown",
   "metadata": {},
   "source": [
    "## 4. Survey: How long does it take you to complete the coursework?"
   ]
  },
  {
   "cell_type": "code",
   "execution_count": null,
   "metadata": {},
   "outputs": [],
   "source": []
  }
 ],
 "metadata": {
  "kernelspec": {
   "display_name": "Python 3 (ipykernel)",
   "language": "python",
   "name": "python3"
  },
  "language_info": {
   "codemirror_mode": {
    "name": "ipython",
    "version": 3
   },
   "file_extension": ".py",
   "mimetype": "text/x-python",
   "name": "python",
   "nbconvert_exporter": "python",
   "pygments_lexer": "ipython3",
   "version": "3.9.10"
  }
 },
 "nbformat": 4,
 "nbformat_minor": 4
}
