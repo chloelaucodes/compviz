{
 "cells": [
  {
   "cell_type": "markdown",
   "metadata": {},
   "source": [
    "# Coursework 1: Image filtering\n",
    "\n",
    "In this coursework you will practice image filtering techniques, which are commonly used to smooth, sharpen or add certain effects to images. \n",
    "The coursework includes both coding questions and written questions. Please read both the text and code comment in this notebook to get an idea what you are expected to implement.\n",
    "\n",
    "## What to do?\n",
    "\n",
    "* Complete and run the code using `jupyter-lab` or `jupyter-notebook` to get the results.\n",
    "\n",
    "* Export (File | Export Notebook As...) or print (using the print function of your browser) the notebook as a pdf file, which contains your code, results and text answers, and upload the pdf file onto [Cate](https://cate.doc.ic.ac.uk).\n",
    "\n",
    "* If Jupyter-lab does not work for you, you can also use Google Colab to write the code and export the pdf file.\n",
    "\n",
    "## Dependencies:\n",
    "\n",
    "If you do not have Jupyter-Lab on your laptop, you can find information for installing Jupyter-Lab [here](https://jupyterlab.readthedocs.io/en/stable/getting_started/installation.html).\n",
    "\n",
    "There may be certain Python packages you may want to use for completing the coursework. We have provided examples below for importing libraries. If some packages are missing, you need to install them. In general, new packages (e.g. imageio etc) can be installed by running \n",
    "\n",
    "`pip3 install [package_name]`\n",
    "\n",
    "in the terminal. If you use Anaconda, you can also install new packages by running `conda install [package_name]` or using its graphic user interface."
   ]
  },
  {
   "cell_type": "code",
   "execution_count": null,
   "metadata": {},
   "outputs": [],
   "source": [
    "# Import libaries (provided)\n",
    "import imageio\n",
    "import numpy as np\n",
    "import matplotlib.pyplot as plt\n",
    "import noise\n",
    "import scipy\n",
    "import scipy.signal\n",
    "import math\n",
    "import time"
   ]
  },
  {
   "cell_type": "markdown",
   "metadata": {},
   "source": [
    "## 1. Moving average filter.\n",
    "\n",
    "Read a specific input image and add noise to the image. Design a moving average filter of kernel size 3x3 and 11x11 respectively. Perform image filtering on the noisy image.\n",
    "\n",
    "Design the kernel of the filter by yourself. Then perform 2D image filtering using the function `scipy.signal.convolve2d()`."
   ]
  },
  {
   "cell_type": "code",
   "execution_count": null,
   "metadata": {},
   "outputs": [],
   "source": [
    "# Read the image (provided)\n",
    "image = imageio.imread('hyde_park.jpg')\n",
    "plt.imshow(image, cmap='gray')\n",
    "plt.gcf().set_size_inches(10, 8)"
   ]
  },
  {
   "cell_type": "code",
   "execution_count": null,
   "metadata": {},
   "outputs": [],
   "source": [
    "# Corrupt the image with Gaussian noise (provided)\n",
    "image_noisy = noise.add_noise(image, 'gaussian')\n",
    "plt.imshow(image_noisy, cmap='gray')\n",
    "plt.gcf().set_size_inches(10, 8)"
   ]
  },
  {
   "cell_type": "markdown",
   "metadata": {},
   "source": [
    "### Note: from now on, please use the noisy image as the input for the filters.\n",
    "\n",
    "### 1.1 Filter the noisy image with a 3x3 moving average filter. Show the filtering results. (5 points)"
   ]
  },
  {
   "cell_type": "code",
   "execution_count": null,
   "metadata": {},
   "outputs": [],
   "source": [
    "# Design the filter h\n",
    "h = [[1/9]*3]*3\n",
    "\n",
    "# Convolve the corrupted image with h using scipy.signal.convolve2d function\n",
    "image_filtered = scipy.signal.convolve2d(image, h)\n",
    "\n",
    "# Print the filter (provided)\n",
    "print('Filter h:')\n",
    "print(h)\n",
    "\n",
    "# Display the filtering result (provided)\n",
    "plt.imshow(image_filtered, cmap='gray')\n",
    "plt.gcf().set_size_inches(10, 8)"
   ]
  },
  {
   "cell_type": "markdown",
   "metadata": {},
   "source": [
    "### 1.2 Filter the noisy image with a 11x11 moving average filter. (5 points)"
   ]
  },
  {
   "cell_type": "code",
   "execution_count": null,
   "metadata": {},
   "outputs": [],
   "source": [
    "# Design the filter h\n",
    "h = np.ones((11,11))\n",
    "h /= h.size\n",
    "\n",
    "# Convolve the corrupted image with h using scipy.signal.convolve2d function\n",
    "image_filtered = scipy.signal.convolve2d(image, h)\n",
    "\n",
    "# Print the filter (provided)\n",
    "print('Filter h:')\n",
    "print(h)\n",
    "\n",
    "# Display the filtering result (provided)\n",
    "plt.imshow(image_filtered, cmap='gray')\n",
    "plt.gcf().set_size_inches(10, 8)"
   ]
  },
  {
   "cell_type": "markdown",
   "metadata": {},
   "source": [
    "### 1.3 Comment on the filtering results. How do different kernel sizes influence the filtering results? (10 points)"
   ]
  },
  {
   "cell_type": "markdown",
   "metadata": {},
   "source": [
    "The larger the filter is, the more blurry the image would result in.\n",
    "\n",
    "The 3x3 filter recreated a lot of depth and reduced noise to the noisy image, despite having relatively blurry and unclear edges.\n",
    "\n",
    "However, for the 11x11 filter, that has caused the image to lose detail and overall become very blurry."
   ]
  },
  {
   "cell_type": "markdown",
   "metadata": {},
   "source": [
    "## 2. Edge detection.\n",
    "\n",
    "Perform edge detection using Prewitt filtering, as well as Gaussian + Prewitt filtering."
   ]
  },
  {
   "cell_type": "markdown",
   "metadata": {},
   "source": [
    "### 2.1 Implement 3x3 Prewitt filters and convolve with the noisy image. (10 points)"
   ]
  },
  {
   "cell_type": "code",
   "execution_count": null,
   "metadata": {},
   "outputs": [],
   "source": [
    "# Design the Prewitt filters\n",
    "prewitt_x = [[1, 0, -1]]*3\n",
    "prewitt_y = np.transpose(prewitt_x)\n",
    "\n",
    "# Prewitt filtering\n",
    "image_filtered_prewitt_x = scipy.signal.convolve2d(image, prewitt_x)\n",
    "image_filtered_prewitt_y = scipy.signal.convolve2d(image, prewitt_y)\n",
    "\n",
    "# Calculate the gradient magnitude\n",
    "grad_mag = np.hypot(image_filtered_prewitt_x, image_filtered_prewitt_y)\n",
    "\n",
    "# Print the filters (provided)\n",
    "print('prewitt_x:')\n",
    "print(prewitt_x)\n",
    "print('prewitt_y:')\n",
    "print(prewitt_y)\n",
    "\n",
    "# Display the gradient magnitude image (provided)\n",
    "plt.imshow(grad_mag, cmap='gray')\n",
    "plt.gcf().set_size_inches(10, 8)"
   ]
  },
  {
   "cell_type": "markdown",
   "metadata": {},
   "source": [
    "### 2.2 Implement a function that generates a 2D Gaussian filter given the parameter $\\sigma$. (10 points)"
   ]
  },
  {
   "cell_type": "code",
   "execution_count": null,
   "metadata": {},
   "outputs": [],
   "source": [
    "# Design the Gaussian filter\n",
    "def gaussian_filter_2d(sigma):\n",
    "    # sigma: the parameter sigma in the Gaussian kernel (unit: pixel)\n",
    "    #\n",
    "    # return: a 2D array for the Gaussian kernel\n",
    "                \n",
    "    k = 3\n",
    "    size = 2 * k * sigma + 1\n",
    "    gauss_func = lambda i,j,s: (1 / (2 * np.pi * (sigma ** 2))) * np.exp(- (i ** 2 + j ** 2) / (2 * (sigma ** 2)))\n",
    "\n",
    "    \n",
    "    h = np.ones((size, size))\n",
    "    \n",
    "    for i in range(h.shape[0]):\n",
    "        for j in range(h.shape[1]):\n",
    "            h[i, j] = gauss_func(i - k * sigma, j - k * sigma, sigma)\n",
    "            \n",
    "    return h / h.sum()\n",
    "\n",
    "# Visualise the Gaussian filter when sigma = 3 pixel (provided)\n",
    "sigma = 3\n",
    "h = gaussian_filter_2d(sigma)\n",
    "plt.imshow(h)"
   ]
  },
  {
   "cell_type": "markdown",
   "metadata": {},
   "source": [
    "### 2.3 Perform Gaussian smoothing ($\\sigma$ = 3 pixels), followed by Prewitt filtering, show the gradient magnitude image. (5 points)"
   ]
  },
  {
   "cell_type": "code",
   "execution_count": null,
   "metadata": {},
   "outputs": [],
   "source": [
    "# Perform Gaussian smoothing before Prewitt filtering\n",
    "image_filter_gaussian = scipy.signal.convolve2d(image, gaussian_filter_2d(3))\n",
    "\n",
    "# Prewitt filtering\n",
    "image_filtered_gaussian_prewitt_x = scipy.signal.convolve2d(image_filter_gaussian, prewitt_x)\n",
    "image_filtered_gaussian_prewitt_y = scipy.signal.convolve2d(image_filter_gaussian, prewitt_y)\n",
    "\n",
    "# Calculate the gradient magnitude\n",
    "grad_mag = np.hypot(image_filtered_gaussian_prewitt_x, image_filtered_gaussian_prewitt_y)\n",
    "\n",
    "\n",
    "# Display the gradient magnitude image (provided)\n",
    "plt.imshow(grad_mag, cmap='gray', vmin=0, vmax=100)\n",
    "plt.gcf().set_size_inches(10, 8)"
   ]
  },
  {
   "cell_type": "markdown",
   "metadata": {},
   "source": [
    "### 2.4 Perform Gaussian smoothing ($\\sigma$ = 7 pixels) and evaluate the computational time for Gaussian smoothing. After that, perform Prewitt filtering. (7 points)"
   ]
  },
  {
   "cell_type": "code",
   "execution_count": null,
   "metadata": {},
   "outputs": [],
   "source": [
    "# Construct the Gaussian filter\n",
    "h = gaussian_filter_2d(7)\n",
    "\n",
    "# Perform Gaussian smoothing and count time\n",
    "start = time.time()\n",
    "image_filter_gaussian = scipy.signal.convolve2d(image, h)\n",
    "end = time.time()\n",
    "print(end - start)\n",
    "\n",
    "# Prewitt filtering\n",
    "image_filtered_gaussian_prewitt_x = scipy.signal.convolve2d(image_filter_gaussian, prewitt_x)\n",
    "image_filtered_gaussian_prewitt_y = scipy.signal.convolve2d(image_filter_gaussian, prewitt_y)\n",
    "\n",
    "# Calculate the gradient magnitude\n",
    "grad_mag = np.hypot(image_filtered_gaussian_prewitt_x, image_filtered_gaussian_prewitt_y)\n",
    "\n",
    "# Display the gradient magnitude image (provided)\n",
    "plt.imshow(grad_mag, cmap='gray', vmin=0, vmax=100)\n",
    "plt.gcf().set_size_inches(10, 8)"
   ]
  },
  {
   "cell_type": "markdown",
   "metadata": {},
   "source": [
    "### 2.5 Implement a function that generates a 1D Gaussian filter given the parameter $\\sigma$. Generate 1D Gaussian filters along x-axis and y-axis respectively. (10 points)"
   ]
  },
  {
   "cell_type": "code",
   "execution_count": null,
   "metadata": {},
   "outputs": [],
   "source": [
    "# Design the Gaussian filter\n",
    "def gaussian_filter_1d(sigma):\n",
    "    # sigma: the parameter sigma in the Gaussian kernel (unit: pixel)\n",
    "    #\n",
    "    # return: a 1D array for the Gaussian kernel\n",
    "    \n",
    "    k = 3\n",
    "    size = 2 * k * sigma + 1\n",
    "    gauss_func = lambda x,s: (1 / (2 * np.pi * (sigma ** 2))) * np.exp(- (x ** 2) / (2 * (sigma ** 2)))\n",
    "\n",
    "    \n",
    "    h = np.ones((1, size))\n",
    "    \n",
    "    for x in range(size):\n",
    "        h[0][x] = gauss_func(x - k * sigma, sigma)\n",
    "            \n",
    "    return h / h.sum()\n",
    "\n",
    "# sigma = 7 pixel (provided)\n",
    "sigma = 7\n",
    "\n",
    "# The Gaussian filter along x-axis. Its shape is (1, sz).\n",
    "h_x = gaussian_filter_1d(sigma)\n",
    "\n",
    "# The Gaussian filter along y-axis. Its shape is (sz, 1).\n",
    "h_y = gaussian_filter_1d(sigma).T\n",
    "\n",
    "# Visualise the filters (provided)\n",
    "plt.subplot(1, 2, 1)\n",
    "plt.imshow(h_x)\n",
    "plt.subplot(1, 2, 2)\n",
    "plt.imshow(h_y)"
   ]
  },
  {
   "cell_type": "markdown",
   "metadata": {},
   "source": [
    "### 2.6 Perform Gaussian smoothing ($\\sigma$ = 7 pixels) using two separable filters and evaluate the computational time for separable Gaussian filtering. After that, perform Prewitt filtering, show results and check whether the results are the same as the previous one without separable filtering. (9 points)"
   ]
  },
  {
   "cell_type": "code",
   "execution_count": null,
   "metadata": {},
   "outputs": [],
   "source": [
    "# Perform separable Gaussian smoothing and count time\n",
    "start = time.time()\n",
    "image_filter_gaussian_x = scipy.signal.convolve2d(image, h_x)\n",
    "image_filter_gaussian = scipy.signal.convolve2d(image_filter_gaussian_x, h_y)\n",
    "end = time.time()\n",
    "print(end - start)\n",
    "\n",
    "# Prewitt filtering\n",
    "image_filtered_gaussian_prewitt_x = scipy.signal.convolve2d(image_filter_gaussian, prewitt_x)\n",
    "image_filtered_gaussian_prewitt_y = scipy.signal.convolve2d(image_filter_gaussian, prewitt_y)\n",
    "\n",
    "# Calculate the gradient magnitude\n",
    "grad_mag2 = np.hypot(image_filtered_gaussian_prewitt_x, image_filtered_gaussian_prewitt_y)\n",
    "\n",
    "# Display the gradient magnitude image (provided)\n",
    "plt.imshow(grad_mag2, cmap='gray', vmin=0, vmax=100)\n",
    "plt.gcf().set_size_inches(10, 8)\n",
    "\n",
    "# Check the difference between the current gradient magnitude map\n",
    "# and the previous one produced without separable filtering. You\n",
    "# can report the mean difference between the two.\n"
   ]
  },
  {
   "cell_type": "markdown",
   "metadata": {},
   "source": [
    "### 2.7 Comment on the Gaussian + Prewitt filtering results and the computational time. (9 points)"
   ]
  },
  {
   "cell_type": "markdown",
   "metadata": {},
   "source": [
    "The Gaussian + Prewitt result generated edges from the images. \n",
    "\n",
    "The smaller the sigma for the Gaussian smoothing, the more sharper the edges are for the image, and as the sigma increases, the edges become more and more fuzzy.\n",
    "\n",
    "Both the 1D smoothing with 2 separable Gaussian filters and the 2D smoothing with one filter produced the same result (visually). The 1D smoothing with 2 separable Gaussian filters is significantly faster by magnitude (0.5 seconds vs 9 seconds).\n",
    "\n",
    "This is due to the lack of need for a nested loop, making the progress O(n) instead of O(n^2)."
   ]
  },
  {
   "cell_type": "markdown",
   "metadata": {},
   "source": [
    "## 3. Challenge: Implement a 2D Gaussian filter using Pytorch.\n",
    "\n",
    "[Pytorch](https://pytorch.org/) is a machine learning framework that supports filtering and convolution.\n",
    "\n",
    "The [Conv2D](https://pytorch.org/docs/stable/nn.html#conv2d) operator takes an input array of dimension NxC1xXxY, applies the filter and outputs an array of dimension NxC2xXxY. Here, since we only have one image with one colour channel, we will set N=1, C1=1 and C2=1. You can read the documentation of Conv2D for more detail."
   ]
  },
  {
   "cell_type": "code",
   "execution_count": 9,
   "metadata": {},
   "outputs": [
    {
     "name": "stdout",
     "output_type": "stream",
     "text": [
      "Requirement already satisfied: torch in /opt/homebrew/Caskroom/miniforge/base/lib/python3.9/site-packages (1.10.2)\n",
      "Requirement already satisfied: typing-extensions in /opt/homebrew/Caskroom/miniforge/base/lib/python3.9/site-packages (from torch) (4.0.1)\n",
      "Collecting package metadata (current_repodata.json): done\n",
      "Solving environment: done\n",
      "\n",
      "# All requested packages already installed.\n",
      "\n"
     ]
    },
    {
     "ename": "ModuleNotFoundError",
     "evalue": "No module named 'torch'",
     "output_type": "error",
     "traceback": [
      "\u001b[0;31m---------------------------------------------------------------------------\u001b[0m",
      "\u001b[0;31mModuleNotFoundError\u001b[0m                       Traceback (most recent call last)",
      "Input \u001b[0;32mIn [9]\u001b[0m, in \u001b[0;36m<module>\u001b[0;34m\u001b[0m\n\u001b[1;32m      2\u001b[0m get_ipython()\u001b[38;5;241m.\u001b[39msystem(\u001b[38;5;124m'\u001b[39m\u001b[38;5;124mconda install pytorch\u001b[39m\u001b[38;5;124m'\u001b[39m)\n\u001b[1;32m      3\u001b[0m \u001b[38;5;66;03m# Import libaries (provided)\u001b[39;00m\n\u001b[0;32m----> 4\u001b[0m \u001b[38;5;28;01mimport\u001b[39;00m \u001b[38;5;21;01mtorch\u001b[39;00m\n",
      "\u001b[0;31mModuleNotFoundError\u001b[0m: No module named 'torch'"
     ]
    }
   ],
   "source": [
    "# Import libaries (provided)\n",
    "import torch"
   ]
  },
  {
   "cell_type": "markdown",
   "metadata": {},
   "source": [
    "### 3.1 Expand the dimension of the noisy image into 1x1xXxY and convert it to a Pytorch tensor. (7 points)"
   ]
  },
  {
   "cell_type": "code",
   "execution_count": null,
   "metadata": {},
   "outputs": [],
   "source": [
    "# Expand the dimension of the numpy array\n",
    "\n",
    "\n",
    "\n",
    "# Convert to a Pytorch tensor using torch.from_numpy\n"
   ]
  },
  {
   "cell_type": "markdown",
   "metadata": {},
   "source": [
    "### 3.2 Create a Pytorch Conv2D filter, set its kernel to be a 2D Gaussian filter. (7 points)"
   ]
  },
  {
   "cell_type": "code",
   "execution_count": null,
   "metadata": {},
   "outputs": [],
   "source": [
    "# A 2D Gaussian filter when sigma = 3 pixel (provided)\n",
    "sigma = 3\n",
    "h = gaussian_filter_2d(sigma)\n",
    "print(h.shape)\n",
    "\n",
    "# Create the Conv2D filter (provided)\n",
    "conv = ...\n",
    "\n",
    "# Set the kernel weight\n"
   ]
  },
  {
   "cell_type": "markdown",
   "metadata": {},
   "source": [
    "### 3.3 Apply the filter to the noisy image tensor and display the output image. (6 points)"
   ]
  },
  {
   "cell_type": "code",
   "execution_count": null,
   "metadata": {},
   "outputs": [],
   "source": [
    "# Filtering\n",
    "\n",
    "\n",
    "# Display the filtering result (provided)\n",
    "plt.imshow(image_filtered, cmap='gray')\n",
    "plt.gcf().set_size_inches(10, 8)"
   ]
  },
  {
   "cell_type": "markdown",
   "metadata": {},
   "source": [
    "## 4. Survey: How long does it take you to complete the coursework?"
   ]
  },
  {
   "cell_type": "code",
   "execution_count": null,
   "metadata": {},
   "outputs": [],
   "source": []
  }
 ],
 "metadata": {
  "kernelspec": {
   "display_name": "Python 3 (ipykernel)",
   "language": "python",
   "name": "python3"
  },
  "language_info": {
   "codemirror_mode": {
    "name": "ipython",
    "version": 3
   },
   "file_extension": ".py",
   "mimetype": "text/x-python",
   "name": "python",
   "nbconvert_exporter": "python",
   "pygments_lexer": "ipython3",
   "version": "3.9.10"
  }
 },
 "nbformat": 4,
 "nbformat_minor": 4
}
